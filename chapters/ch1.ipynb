{
 "cells": [
  {
   "cell_type": "markdown",
   "metadata": {},
   "source": [
    "# list  of things to learn\n",
    "* Poisson Distribution\n",
    "* Poisson Regression\n",
    "* Modelling\n",
    "    * The definitions of the good models\n",
    "    * The ways to test the models\n",
    "* Maximum Likelihood Estimation\n",
    "* Binominal Distribution\n",
    "* GLM (Generalized Linear Model)\n",
    "* MCMC (Markov Chain Monte Carlo)\n",
    "* Prior Probability Distribution\n",
    "* Hierarchical Bayes"
   ]
  },
  {
   "cell_type": "markdown",
   "metadata": {
    "collapsed": true
   },
   "source": [
    "# Things to be careful\n",
    "> Upon applying the statistical modelling, it is common to be trapped by the \"Black Box\"; that is to say, people often utilize the theores without understanding underlying algorism behind the thoeries.  Therefore, we should always be logical enough to explain what is going on."
   ]
  },
  {
   "cell_type": "code",
   "execution_count": null,
   "metadata": {
    "collapsed": true
   },
   "outputs": [],
   "source": []
  }
 ],
 "metadata": {
  "kernelspec": {
   "display_name": "Python 3",
   "language": "python",
   "name": "python3"
  },
  "language_info": {
   "codemirror_mode": {
    "name": "ipython",
    "version": 3
   },
   "file_extension": ".py",
   "mimetype": "text/x-python",
   "name": "python",
   "nbconvert_exporter": "python",
   "pygments_lexer": "ipython3",
   "version": "3.6.0"
  }
 },
 "nbformat": 4,
 "nbformat_minor": 2
}
