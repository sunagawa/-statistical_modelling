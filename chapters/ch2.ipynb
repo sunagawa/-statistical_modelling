{
 "cells": [
  {
   "cell_type": "code",
   "execution_count": 15,
   "metadata": {},
   "outputs": [],
   "source": [
    "\"\"\" import the frequently used modules \"\"\"\n",
    "import numpy as np, pandas as pd, seaborn as sns, matplotlib.pyplot as plt\n",
    "from pandas import DataFrame as DF, Series as SR, read_csv as CSV, read_excel as EX\n",
    "from datetime import datetime, timedelta\n",
    "import sys, os, importlib, math, sympy, scipy\n",
    "%matplotlib inline\n",
    "\n",
    "from logging import getLogger, DEBUG, INFO, FileHandler, StreamHandler, Formatter\n",
    "formatter = Formatter('%(asctime)s - %(levelname)s - %(message)s')\n",
    "sh = StreamHandler()\n",
    "sh.setLevel(DEBUG)\n",
    "fh = FileHandler(datetime.now().strftime('/tmp/%Y%m%d.log'))\n",
    "fh.setFormatter(formatter)\n",
    "fh.setLevel(INFO)\n",
    "l = getLogger(__name__)\n",
    "l.handlers = []\n",
    "l.setLevel(DEBUG)\n",
    "l.addHandler(sh)\n",
    "l.addHandler(fh)"
   ]
  },
  {
   "cell_type": "code",
   "execution_count": null,
   "metadata": {},
   "outputs": [],
   "source": []
  },
  {
   "cell_type": "code",
   "execution_count": 16,
   "metadata": {},
   "outputs": [],
   "source": [
    "def calc_poisson_distribution(Ys, poisson_mean):\n",
    "    \"\"\" Return the probabilities to be the each value of y (array) given the poisson_mean (lambda)\n",
    "    using the poisson distribution probability model\n",
    "    \"\"\"\n",
    "    numerator = np.power(poisson_mean, Ys) * np.exp(-poisson_mean)\n",
    "    denominator = scipy.misc.factorial(Ys)\n",
    "    return numerator / denominator"
   ]
  },
  {
   "cell_type": "code",
   "execution_count": 17,
   "metadata": {},
   "outputs": [],
   "source": [
    "def generate_samples(accumulated_probabilities, sample_size):\n",
    "    \"\"\" Return the digitized result of the samples\n",
    "    \"\"\"\n",
    "    samples = np.random.rand(sample_size)\n",
    "    digitized_samples = np.digitize(samples, accumulated_probabilities)\n",
    "    return digitized_samples"
   ]
  },
  {
   "cell_type": "code",
   "execution_count": 158,
   "metadata": {},
   "outputs": [],
   "source": [
    "def calc_llv_of_poission_distribution(Ys, poisson_mean):\n",
    "    \"\"\" Return the log likelihood value of the poisson distribution\n",
    "    \"\"\"\n",
    "#     return np.log(np.prod(calc_poisson_distribution(Ys, poission_mean))) \"\"\" cannot take care if the number of Y becomes large \"\"\"\n",
    "    return sum(Ys * np.log(poisson_mean) - poisson_mean - np.log(scipy.misc.factorial(Ys)))"
   ]
  },
  {
   "cell_type": "code",
   "execution_count": null,
   "metadata": {},
   "outputs": [],
   "source": []
  },
  {
   "cell_type": "markdown",
   "metadata": {
    "collapsed": true
   },
   "source": [
    "# calculate probabilities & test with sample data"
   ]
  },
  {
   "cell_type": "code",
   "execution_count": 161,
   "metadata": {},
   "outputs": [
    {
     "name": "stderr",
     "output_type": "stream",
     "text": [
      "# sum of probabilities (%): 99.7\n",
      "# accumulated probabilities (%): {0: 3, 1: 13, 2: 32, 3: 53, 4: 72, 5: 85, 6: 93, 7: 97, 8: 99, 9: 100}\n",
      "# variance of digitized_samples: 3.426\n"
     ]
    },
    {
     "data": {
      "image/png": "[encoded data removed]",
      "text/plain": [
       "<matplotlib.figure.Figure at 0x11ccee390>"
      ]
     },
     "metadata": {},
     "output_type": "display_data"
    }
   ],
   "source": [
    "Y_count = 10\n",
    "poisson_mean = 3.5\n",
    "sample_size = 100000\n",
    "Ys = np.arange(Y_count)\n",
    "\n",
    "probabilities = calc_poisson_distribution(Ys, poisson_mean)\n",
    "l.debug(\"# sum of probabilities (%): {}\".format(probabilities.sum().round(3) * 100))\n",
    "\n",
    "accumulated_probabilities = np.add.accumulate(probabilities)\n",
    "accumulated_probabilities[-1] = 1\n",
    "l.info(\"# accumulated probabilities (%): {}\".format(dict(zip(Ys, (accumulated_probabilities * 100).astype(int)))))\n",
    "    \n",
    "digitized_samples = generate_samples(accumulated_probabilities, sample_size=sample_size)\n",
    "l.info(f\"# variance of digitized_samples: {digitized_samples.var().round(3)}\")\n",
    "\n",
    "\"\"\" Series (key: Y, value: number of Y) \"\"\"\n",
    "number_of_Y = pd.Series(digitized_samples).value_counts().sort_index() / len(digitized_samples)\n",
    "\n",
    "plt.bar(number_of_Y.index, number_of_Y.values)\n",
    "plt.plot(Ys, probabilities, linestyle='--', marker='o', c='red')\n",
    "plt.show()"
   ]
  },
  {
   "cell_type": "code",
   "execution_count": null,
   "metadata": {},
   "outputs": [],
   "source": []
  },
  {
   "cell_type": "markdown",
   "metadata": {},
   "source": [
    "# calculate the best fit point of the digitized sample data"
   ]
  },
  {
   "cell_type": "code",
   "execution_count": 162,
   "metadata": {},
   "outputs": [
    {
     "name": "stderr",
     "output_type": "stream",
     "text": [
      "best_fit: mean=3.490000000000002, log_likelihood_value=-200907.189733068\n"
     ]
    },
    {
     "data": {
      "text/plain": [
       "<matplotlib.collections.PathCollection at 0x11d8d91d0>"
      ]
     },
     "execution_count": 162,
     "metadata": {},
     "output_type": "execute_result"
    },
    {
     "data": {
      "image/png": "[encoded data removed]",
      "text/plain": [
       "<matplotlib.figure.Figure at 0x11de5b8d0>"
      ]
     },
     "metadata": {},
     "output_type": "display_data"
    }
   ],
   "source": [
    "testing_means = np.arange(1, 5, 0.01)\n",
    "mean_llv = [(mean, calc_llv_of_poission_distribution(digitized_samples, mean)) for mean in testing_means]\n",
    "mean_llv_df = DF(mean_llv, columns=['mean', 'llv'])\n",
    "best_fit = mean_llv_df[mean_llv_df.llv == mean_llv_df.llv.max()].to_dict('record')[0]\n",
    "l.info(f\"best_fit: mean={best_fit['mean']}, log_likelihood_value={best_fit['llv']}\")\n",
    "\n",
    "plt.plot(mean_llv_df['mean'], mean_llv_df['llv'])\n",
    "plt.scatter(best_fit['mean'], best_fit['llv'], color='red')"
   ]
  },
  {
   "cell_type": "code",
   "execution_count": null,
   "metadata": {},
   "outputs": [],
   "source": []
  }
 ],
 "metadata": {
  "kernelspec": {
   "display_name": "Python 3",
   "language": "python",
   "name": "python3"
  },
  "language_info": {
   "codemirror_mode": {
    "name": "ipython",
    "version": 3
   },
   "file_extension": ".py",
   "mimetype": "text/x-python",
   "name": "python",
   "nbconvert_exporter": "python",
   "pygments_lexer": "ipython3",
   "version": "3.6.0"
  }
 },
 "nbformat": 4,
 "nbformat_minor": 2
}
