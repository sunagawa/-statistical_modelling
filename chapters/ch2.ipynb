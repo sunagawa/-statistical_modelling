{
 "cells": [
  {
   "cell_type": "code",
   "execution_count": 3,
   "metadata": {},
   "outputs": [
    {
     "name": "stderr",
     "output_type": "stream",
     "text": [
      "/Users/ysunagawa/.pyenv/versions/anaconda3-4.3.1/lib/python3.6/site-packages/IPython/html.py:14: ShimWarning: The `IPython.html` package has been deprecated. You should import from `notebook` instead. `IPython.html.widgets` has moved to `ipywidgets`.\n",
      "  \"`IPython.html.widgets` has moved to `ipywidgets`.\", ShimWarning)\n"
     ]
    }
   ],
   "source": [
    "\"\"\" import the frequently used modules \"\"\"\n",
    "import numpy as np, pandas as pd, seaborn as sns, matplotlib.pyplot as plt\n",
    "from pandas import DataFrame as DF, Series as SR, read_csv as CSV, read_excel as EX\n",
    "from datetime import datetime, timedelta\n",
    "import sys, os, importlib, math, sympy, scipy\n",
    "%matplotlib inline\n",
    "\n",
    "from logging import getLogger, DEBUG, INFO, FileHandler, StreamHandler, Formatter\n",
    "formatter = Formatter('%(asctime)s - %(levelname)s - %(message)s')\n",
    "sh = StreamHandler()\n",
    "sh.setLevel(DEBUG)\n",
    "fh = FileHandler(datetime.now().strftime('/tmp/%Y%m%d.log'))\n",
    "fh.setFormatter(formatter)\n",
    "fh.setLevel(INFO)\n",
    "l = getLogger(__name__)\n",
    "l.setLevel(DEBUG)\n",
    "l.addHandler(sh)\n",
    "l.addHandler(fh)"
   ]
  },
  {
   "cell_type": "code",
   "execution_count": null,
   "metadata": {},
   "outputs": [],
   "source": []
  },
  {
   "cell_type": "code",
   "execution_count": 4,
   "metadata": {},
   "outputs": [],
   "source": [
    "def calc_poisson_distribution(Ys, poisson_mean):\n",
    "    \"\"\" Return the probabilities to be the each value of y (array) given the poisson_mean (lambda)\n",
    "    using the poisson distribution probability model\n",
    "    \"\"\"\n",
    "    numerator = np.power(poisson_mean, Ys) * np.exp(-poisson_mean)\n",
    "    denominator = scipy.misc.factorial(Ys)\n",
    "    return numerator / denominator"
   ]
  },
  {
   "cell_type": "code",
   "execution_count": 5,
   "metadata": {},
   "outputs": [],
   "source": [
    "def generate_samples(accumulated_probabilities, sample_size):\n",
    "    \"\"\" Return the digitized result of the samples\n",
    "    \"\"\"\n",
    "    samples = np.random.rand(sample_size)\n",
    "    digitized_samples = np.digitize(samples, accumulated_probabilities)\n",
    "    return digitized_samples"
   ]
  },
  {
   "cell_type": "code",
   "execution_count": null,
   "metadata": {},
   "outputs": [],
   "source": []
  },
  {
   "cell_type": "markdown",
   "metadata": {
    "collapsed": true
   },
   "source": [
    "# calculate probabilities & test with sample data"
   ]
  },
  {
   "cell_type": "code",
   "execution_count": 46,
   "metadata": {},
   "outputs": [
    {
     "name": "stderr",
     "output_type": "stream",
     "text": [
      "# Sum of probabilities: 0.9966850557353676\n",
      "# accumulated_probabilities: \n",
      "{0: 0.030197383422318501, 1: 0.13588822540043324, 2: 0.32084719886213409, 3: 0.53663266790078501, 4: 0.72544495330960457, 5: 0.85761355309577825, 6: 0.93471190297104623, 7: 0.97326107790868022, 8: 0.99012634194389504, 9: 1.0}\n"
     ]
    },
    {
     "data": {
      "image/png": "[encoded data removed]",
      "text/plain": [
       "<matplotlib.figure.Figure at 0x118dca710>"
      ]
     },
     "metadata": {},
     "output_type": "display_data"
    }
   ],
   "source": [
    "Y_count = 10\n",
    "poisson_mean = 3.5\n",
    "Ys = np.arange(Y_count)\n",
    "\n",
    "probabilities = calc_poisson_distribution(Ys, poisson_mean)\n",
    "l.debug(\"# Sum of probabilities: {}\".format(probabilities.sum()))\n",
    "\n",
    "accumulated_probabilities = np.add.accumulate(probabilities)\n",
    "accumulated_probabilities[-1] = 1\n",
    "l.info(\"# accumulated_probabilities: \")\n",
    "l.info(dict(zip(Ys, accumulated_probabilities)))\n",
    "    \n",
    "digitized_samples = generate_samples(accumulated_probabilities, sample_size=50)\n",
    "\n",
    "\"\"\" Series (key: Y, value: number of Y) \"\"\"\n",
    "number_of_Y = pd.Series(digitized_samples).value_counts().sort_index() / len(digitized_samples)\n",
    "\n",
    "plt.bar(number_of_Y.index, number_of_Y.values)\n",
    "plt.plot(Ys, probabilities, linestyle='--', marker='o', c='red')\n",
    "plt.show()"
   ]
  },
  {
   "cell_type": "code",
   "execution_count": null,
   "metadata": {},
   "outputs": [],
   "source": []
  },
  {
   "cell_type": "markdown",
   "metadata": {},
   "source": [
    "# calculate the best fit point of the digitized sample data"
   ]
  },
  {
   "cell_type": "code",
   "execution_count": 163,
   "metadata": {},
   "outputs": [
    {
     "name": "stderr",
     "output_type": "stream",
     "text": [
      "best_fit: x=3.260000000000002, y=-102.57095681454284\n"
     ]
    },
    {
     "data": {
      "text/plain": [
       "<matplotlib.collections.PathCollection at 0x11b1fd2e8>"
      ]
     },
     "execution_count": 163,
     "metadata": {},
     "output_type": "execute_result"
    },
    {
     "data": {
      "image/png": "[encoded data removed]",
      "text/plain": [
       "<matplotlib.figure.Figure at 0x11b0a0c50>"
      ]
     },
     "metadata": {},
     "output_type": "display_data"
    }
   ],
   "source": [
    "def calculate_log_likelihood(samples, mean):\n",
    "    return math.log(np.prod(calc_poisson_distribution(samples, mean)))\n",
    "    \n",
    "xydf = DF([(mean, calculate_log_likelihood(digitized_samples, mean)) for mean in np.arange(1, 5, 0.01)], columns=list('xy'))\n",
    "best_fit = xydf[xydf.y == [xydf.y.max()]].to_dict('record')[0]\n",
    "l.info(f\"best_fit: x={best_fit['x']}, y={best_fit['y']}\")\n",
    "\n",
    "plt.plot(xydf.x, xydf.y)\n",
    "plt.scatter(best_fit['x'], best_fit['y'], color='red')"
   ]
  },
  {
   "cell_type": "code",
   "execution_count": null,
   "metadata": {},
   "outputs": [],
   "source": []
  },
  {
   "cell_type": "code",
   "execution_count": null,
   "metadata": {},
   "outputs": [],
   "source": []
  },
  {
   "cell_type": "code",
   "execution_count": null,
   "metadata": {},
   "outputs": [],
   "source": []
  },
  {
   "cell_type": "code",
   "execution_count": null,
   "metadata": {},
   "outputs": [],
   "source": []
  },
  {
   "cell_type": "code",
   "execution_count": null,
   "metadata": {},
   "outputs": [],
   "source": []
  },
  {
   "cell_type": "code",
   "execution_count": null,
   "metadata": {},
   "outputs": [],
   "source": []
  },
  {
   "cell_type": "code",
   "execution_count": null,
   "metadata": {},
   "outputs": [],
   "source": []
  },
  {
   "cell_type": "code",
   "execution_count": null,
   "metadata": {},
   "outputs": [],
   "source": []
  },
  {
   "cell_type": "code",
   "execution_count": null,
   "metadata": {},
   "outputs": [],
   "source": []
  },
  {
   "cell_type": "code",
   "execution_count": null,
   "metadata": {},
   "outputs": [],
   "source": []
  },
  {
   "cell_type": "code",
   "execution_count": null,
   "metadata": {},
   "outputs": [],
   "source": []
  },
  {
   "cell_type": "code",
   "execution_count": null,
   "metadata": {},
   "outputs": [],
   "source": []
  },
  {
   "cell_type": "code",
   "execution_count": null,
   "metadata": {},
   "outputs": [],
   "source": []
  },
  {
   "cell_type": "code",
   "execution_count": null,
   "metadata": {
    "collapsed": true
   },
   "outputs": [],
   "source": []
  }
 ],
 "metadata": {
  "kernelspec": {
   "display_name": "Python 3",
   "language": "python",
   "name": "python3"
  },
  "language_info": {
   "codemirror_mode": {
    "name": "ipython",
    "version": 3
   },
   "file_extension": ".py",
   "mimetype": "text/x-python",
   "name": "python",
   "nbconvert_exporter": "python",
   "pygments_lexer": "ipython3",
   "version": "3.6.0"
  }
 },
 "nbformat": 4,
 "nbformat_minor": 2
}
